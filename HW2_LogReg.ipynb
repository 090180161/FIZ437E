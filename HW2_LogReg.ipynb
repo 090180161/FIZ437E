{
  "nbformat": 4,
  "nbformat_minor": 0,
  "metadata": {
    "colab": {
      "provenance": [],
      "collapsed_sections": []
    },
    "kernelspec": {
      "name": "python3",
      "display_name": "Python 3"
    },
    "language_info": {
      "name": "python"
    }
  },
  "cells": [
    {
      "cell_type": "code",
      "execution_count": null,
      "metadata": {
        "id": "wfN27V8y3nKk"
      },
      "outputs": [],
      "source": [
        "import pandas as pd\n",
        "import numpy as np\n",
        "import matplotlib.pyplot as plt\n",
        "import random\n",
        "from sklearn.model_selection import train_test_split\n",
        "import warnings\n",
        "from sklearn.metrics import accuracy_score\n"
      ]
    },
    {
      "cell_type": "markdown",
      "source": [
        "### Reading and preparing the data"
      ],
      "metadata": {
        "id": "tCLwNzr8wuv5"
      }
    },
    {
      "cell_type": "code",
      "source": [
        "data = pd.read_csv(\"/content/drive/MyDrive/Bank Customer Churn Prediction.csv\")\n",
        "warnings.filterwarnings('ignore')"
      ],
      "metadata": {
        "id": "kTe7BXeg3pgE"
      },
      "execution_count": null,
      "outputs": []
    },
    {
      "cell_type": "code",
      "source": [
        " data.drop(data.columns[[0,2,3]],inplace = True,axis=1)\n",
        " \n",
        " y = data[\"churn\"]\n",
        " data.drop(\"churn\",inplace = True, axis = 1)\n"
      ],
      "metadata": {
        "id": "kIFk99Cc5YKF"
      },
      "execution_count": null,
      "outputs": []
    },
    {
      "cell_type": "code",
      "source": [
        "y = y.astype(float)\n",
        "y.dtype"
      ],
      "metadata": {
        "colab": {
          "base_uri": "https://localhost:8080/"
        },
        "id": "4VsdW5_R9AIH",
        "outputId": "346b7fd9-2209-4e7f-f855-91e75951184e"
      },
      "execution_count": null,
      "outputs": [
        {
          "output_type": "execute_result",
          "data": {
            "text/plain": [
              "dtype('float64')"
            ]
          },
          "metadata": {},
          "execution_count": 5
        }
      ]
    },
    {
      "cell_type": "code",
      "source": [
        "data = data.astype(float)"
      ],
      "metadata": {
        "id": "gkEBt2-y9Rek"
      },
      "execution_count": null,
      "outputs": []
    },
    {
      "cell_type": "code",
      "source": [
        "x_train,x_test,ytrain,ytest = train_test_split(data,y,test_size=0.1)\n",
        "\n",
        "ytrain_df = pd.DataFrame(data = ytrain, columns=['churn'])\n"
      ],
      "metadata": {
        "id": "265i69jv5nv8"
      },
      "execution_count": null,
      "outputs": []
    },
    {
      "cell_type": "code",
      "source": [
        "x_train.reset_index(drop=True)"
      ],
      "metadata": {
        "colab": {
          "base_uri": "https://localhost:8080/",
          "height": 424
        },
        "id": "M4yUu-u4GKtG",
        "outputId": "ecbb7146-ba77-4822-87db-5c9b10f5ade7"
      },
      "execution_count": null,
      "outputs": [
        {
          "output_type": "execute_result",
          "data": {
            "text/plain": [
              "      credit_score   age  tenure    balance  products_number  credit_card  \\\n",
              "0            700.0  38.0     9.0   65962.63              1.0          1.0   \n",
              "1            611.0  40.0     8.0  100812.33              2.0          1.0   \n",
              "2            629.0  32.0     3.0       0.00              2.0          1.0   \n",
              "3            706.0  38.0     8.0       0.00              2.0          0.0   \n",
              "4            774.0  26.0     2.0   93844.69              1.0          1.0   \n",
              "...            ...   ...     ...        ...              ...          ...   \n",
              "8995         581.0  39.0     1.0  121523.51              1.0          0.0   \n",
              "8996         595.0  41.0     9.0  150463.11              2.0          0.0   \n",
              "8997         850.0  38.0     5.0       0.00              2.0          1.0   \n",
              "8998         684.0  56.0     3.0  127585.98              3.0          1.0   \n",
              "8999         632.0  48.0     6.0  126066.26              1.0          1.0   \n",
              "\n",
              "      active_member  estimated_salary  \n",
              "0               1.0         100950.48  \n",
              "1               0.0         147358.27  \n",
              "2               1.0          15404.64  \n",
              "3               1.0          46635.11  \n",
              "4               0.0          28415.36  \n",
              "...             ...               ...  \n",
              "8995            0.0         161655.55  \n",
              "8996            1.0          81548.38  \n",
              "8997            0.0          16491.64  \n",
              "8998            1.0          80593.49  \n",
              "8999            0.0          64345.61  \n",
              "\n",
              "[9000 rows x 8 columns]"
            ],
            "text/html": [
              "\n",
              "  <div id=\"df-b46afc6f-4152-41db-a224-e404d1a16365\">\n",
              "    <div class=\"colab-df-container\">\n",
              "      <div>\n",
              "<style scoped>\n",
              "    .dataframe tbody tr th:only-of-type {\n",
              "        vertical-align: middle;\n",
              "    }\n",
              "\n",
              "    .dataframe tbody tr th {\n",
              "        vertical-align: top;\n",
              "    }\n",
              "\n",
              "    .dataframe thead th {\n",
              "        text-align: right;\n",
              "    }\n",
              "</style>\n",
              "<table border=\"1\" class=\"dataframe\">\n",
              "  <thead>\n",
              "    <tr style=\"text-align: right;\">\n",
              "      <th></th>\n",
              "      <th>credit_score</th>\n",
              "      <th>age</th>\n",
              "      <th>tenure</th>\n",
              "      <th>balance</th>\n",
              "      <th>products_number</th>\n",
              "      <th>credit_card</th>\n",
              "      <th>active_member</th>\n",
              "      <th>estimated_salary</th>\n",
              "    </tr>\n",
              "  </thead>\n",
              "  <tbody>\n",
              "    <tr>\n",
              "      <th>0</th>\n",
              "      <td>700.0</td>\n",
              "      <td>38.0</td>\n",
              "      <td>9.0</td>\n",
              "      <td>65962.63</td>\n",
              "      <td>1.0</td>\n",
              "      <td>1.0</td>\n",
              "      <td>1.0</td>\n",
              "      <td>100950.48</td>\n",
              "    </tr>\n",
              "    <tr>\n",
              "      <th>1</th>\n",
              "      <td>611.0</td>\n",
              "      <td>40.0</td>\n",
              "      <td>8.0</td>\n",
              "      <td>100812.33</td>\n",
              "      <td>2.0</td>\n",
              "      <td>1.0</td>\n",
              "      <td>0.0</td>\n",
              "      <td>147358.27</td>\n",
              "    </tr>\n",
              "    <tr>\n",
              "      <th>2</th>\n",
              "      <td>629.0</td>\n",
              "      <td>32.0</td>\n",
              "      <td>3.0</td>\n",
              "      <td>0.00</td>\n",
              "      <td>2.0</td>\n",
              "      <td>1.0</td>\n",
              "      <td>1.0</td>\n",
              "      <td>15404.64</td>\n",
              "    </tr>\n",
              "    <tr>\n",
              "      <th>3</th>\n",
              "      <td>706.0</td>\n",
              "      <td>38.0</td>\n",
              "      <td>8.0</td>\n",
              "      <td>0.00</td>\n",
              "      <td>2.0</td>\n",
              "      <td>0.0</td>\n",
              "      <td>1.0</td>\n",
              "      <td>46635.11</td>\n",
              "    </tr>\n",
              "    <tr>\n",
              "      <th>4</th>\n",
              "      <td>774.0</td>\n",
              "      <td>26.0</td>\n",
              "      <td>2.0</td>\n",
              "      <td>93844.69</td>\n",
              "      <td>1.0</td>\n",
              "      <td>1.0</td>\n",
              "      <td>0.0</td>\n",
              "      <td>28415.36</td>\n",
              "    </tr>\n",
              "    <tr>\n",
              "      <th>...</th>\n",
              "      <td>...</td>\n",
              "      <td>...</td>\n",
              "      <td>...</td>\n",
              "      <td>...</td>\n",
              "      <td>...</td>\n",
              "      <td>...</td>\n",
              "      <td>...</td>\n",
              "      <td>...</td>\n",
              "    </tr>\n",
              "    <tr>\n",
              "      <th>8995</th>\n",
              "      <td>581.0</td>\n",
              "      <td>39.0</td>\n",
              "      <td>1.0</td>\n",
              "      <td>121523.51</td>\n",
              "      <td>1.0</td>\n",
              "      <td>0.0</td>\n",
              "      <td>0.0</td>\n",
              "      <td>161655.55</td>\n",
              "    </tr>\n",
              "    <tr>\n",
              "      <th>8996</th>\n",
              "      <td>595.0</td>\n",
              "      <td>41.0</td>\n",
              "      <td>9.0</td>\n",
              "      <td>150463.11</td>\n",
              "      <td>2.0</td>\n",
              "      <td>0.0</td>\n",
              "      <td>1.0</td>\n",
              "      <td>81548.38</td>\n",
              "    </tr>\n",
              "    <tr>\n",
              "      <th>8997</th>\n",
              "      <td>850.0</td>\n",
              "      <td>38.0</td>\n",
              "      <td>5.0</td>\n",
              "      <td>0.00</td>\n",
              "      <td>2.0</td>\n",
              "      <td>1.0</td>\n",
              "      <td>0.0</td>\n",
              "      <td>16491.64</td>\n",
              "    </tr>\n",
              "    <tr>\n",
              "      <th>8998</th>\n",
              "      <td>684.0</td>\n",
              "      <td>56.0</td>\n",
              "      <td>3.0</td>\n",
              "      <td>127585.98</td>\n",
              "      <td>3.0</td>\n",
              "      <td>1.0</td>\n",
              "      <td>1.0</td>\n",
              "      <td>80593.49</td>\n",
              "    </tr>\n",
              "    <tr>\n",
              "      <th>8999</th>\n",
              "      <td>632.0</td>\n",
              "      <td>48.0</td>\n",
              "      <td>6.0</td>\n",
              "      <td>126066.26</td>\n",
              "      <td>1.0</td>\n",
              "      <td>1.0</td>\n",
              "      <td>0.0</td>\n",
              "      <td>64345.61</td>\n",
              "    </tr>\n",
              "  </tbody>\n",
              "</table>\n",
              "<p>9000 rows × 8 columns</p>\n",
              "</div>\n",
              "      <button class=\"colab-df-convert\" onclick=\"convertToInteractive('df-b46afc6f-4152-41db-a224-e404d1a16365')\"\n",
              "              title=\"Convert this dataframe to an interactive table.\"\n",
              "              style=\"display:none;\">\n",
              "        \n",
              "  <svg xmlns=\"http://www.w3.org/2000/svg\" height=\"24px\"viewBox=\"0 0 24 24\"\n",
              "       width=\"24px\">\n",
              "    <path d=\"M0 0h24v24H0V0z\" fill=\"none\"/>\n",
              "    <path d=\"M18.56 5.44l.94 2.06.94-2.06 2.06-.94-2.06-.94-.94-2.06-.94 2.06-2.06.94zm-11 1L8.5 8.5l.94-2.06 2.06-.94-2.06-.94L8.5 2.5l-.94 2.06-2.06.94zm10 10l.94 2.06.94-2.06 2.06-.94-2.06-.94-.94-2.06-.94 2.06-2.06.94z\"/><path d=\"M17.41 7.96l-1.37-1.37c-.4-.4-.92-.59-1.43-.59-.52 0-1.04.2-1.43.59L10.3 9.45l-7.72 7.72c-.78.78-.78 2.05 0 2.83L4 21.41c.39.39.9.59 1.41.59.51 0 1.02-.2 1.41-.59l7.78-7.78 2.81-2.81c.8-.78.8-2.07 0-2.86zM5.41 20L4 18.59l7.72-7.72 1.47 1.35L5.41 20z\"/>\n",
              "  </svg>\n",
              "      </button>\n",
              "      \n",
              "  <style>\n",
              "    .colab-df-container {\n",
              "      display:flex;\n",
              "      flex-wrap:wrap;\n",
              "      gap: 12px;\n",
              "    }\n",
              "\n",
              "    .colab-df-convert {\n",
              "      background-color: #E8F0FE;\n",
              "      border: none;\n",
              "      border-radius: 50%;\n",
              "      cursor: pointer;\n",
              "      display: none;\n",
              "      fill: #1967D2;\n",
              "      height: 32px;\n",
              "      padding: 0 0 0 0;\n",
              "      width: 32px;\n",
              "    }\n",
              "\n",
              "    .colab-df-convert:hover {\n",
              "      background-color: #E2EBFA;\n",
              "      box-shadow: 0px 1px 2px rgba(60, 64, 67, 0.3), 0px 1px 3px 1px rgba(60, 64, 67, 0.15);\n",
              "      fill: #174EA6;\n",
              "    }\n",
              "\n",
              "    [theme=dark] .colab-df-convert {\n",
              "      background-color: #3B4455;\n",
              "      fill: #D2E3FC;\n",
              "    }\n",
              "\n",
              "    [theme=dark] .colab-df-convert:hover {\n",
              "      background-color: #434B5C;\n",
              "      box-shadow: 0px 1px 3px 1px rgba(0, 0, 0, 0.15);\n",
              "      filter: drop-shadow(0px 1px 2px rgba(0, 0, 0, 0.3));\n",
              "      fill: #FFFFFF;\n",
              "    }\n",
              "  </style>\n",
              "\n",
              "      <script>\n",
              "        const buttonEl =\n",
              "          document.querySelector('#df-b46afc6f-4152-41db-a224-e404d1a16365 button.colab-df-convert');\n",
              "        buttonEl.style.display =\n",
              "          google.colab.kernel.accessAllowed ? 'block' : 'none';\n",
              "\n",
              "        async function convertToInteractive(key) {\n",
              "          const element = document.querySelector('#df-b46afc6f-4152-41db-a224-e404d1a16365');\n",
              "          const dataTable =\n",
              "            await google.colab.kernel.invokeFunction('convertToInteractive',\n",
              "                                                     [key], {});\n",
              "          if (!dataTable) return;\n",
              "\n",
              "          const docLinkHtml = 'Like what you see? Visit the ' +\n",
              "            '<a target=\"_blank\" href=https://colab.research.google.com/notebooks/data_table.ipynb>data table notebook</a>'\n",
              "            + ' to learn more about interactive tables.';\n",
              "          element.innerHTML = '';\n",
              "          dataTable['output_type'] = 'display_data';\n",
              "          await google.colab.output.renderOutput(dataTable, element);\n",
              "          const docLink = document.createElement('div');\n",
              "          docLink.innerHTML = docLinkHtml;\n",
              "          element.appendChild(docLink);\n",
              "        }\n",
              "      </script>\n",
              "    </div>\n",
              "  </div>\n",
              "  "
            ]
          },
          "metadata": {},
          "execution_count": 8
        }
      ]
    },
    {
      "cell_type": "code",
      "source": [
        "x_train = np.array(x_train)\n",
        "x_test=np.array(x_test)\n",
        "ytrain=np.array(ytrain)\n",
        "ytest = np.array(ytest)"
      ],
      "metadata": {
        "id": "YQ4rpewHGosC"
      },
      "execution_count": null,
      "outputs": []
    },
    {
      "cell_type": "markdown",
      "source": [
        "### Normalizing the data\n",
        "\n",
        "\n",
        "\n"
      ],
      "metadata": {
        "id": "r51O4qFTwN7r"
      }
    },
    {
      "cell_type": "code",
      "source": [
        "for n in range(len(x_train[0])):\n",
        "  x_train[:,n] = x_train[:,n] - np.min(x_train[:,n])\n",
        "for n in range(len(x_train[0])):\n",
        "  x_train[:,n] = x_train[:,n] / np.max(x_train[:,n])"
      ],
      "metadata": {
        "id": "4Q6hxHTOMaQ_"
      },
      "execution_count": null,
      "outputs": []
    },
    {
      "cell_type": "code",
      "source": [
        "x_train"
      ],
      "metadata": {
        "colab": {
          "base_uri": "https://localhost:8080/"
        },
        "id": "KhvzPMF9My3T",
        "outputId": "b9a7a086-ed74-42ba-87e1-19bdb7ccfd52"
      },
      "execution_count": null,
      "outputs": [
        {
          "output_type": "execute_result",
          "data": {
            "text/plain": [
              "array([[0.7       , 0.27027027, 0.9       , ..., 1.        , 1.        ,\n",
              "        0.5047427 ],\n",
              "       [0.522     , 0.2972973 , 0.8       , ..., 1.        , 0.        ,\n",
              "        0.73680381],\n",
              "       [0.558     , 0.18918919, 0.3       , ..., 1.        , 1.        ,\n",
              "        0.07697265],\n",
              "       ...,\n",
              "       [1.        , 0.27027027, 0.5       , ..., 1.        , 0.        ,\n",
              "        0.08240817],\n",
              "       [0.668     , 0.51351351, 0.3       , ..., 1.        , 1.        ,\n",
              "        0.40294803],\n",
              "       [0.564     , 0.40540541, 0.6       , ..., 1.        , 0.        ,\n",
              "        0.32170087]])"
            ]
          },
          "metadata": {},
          "execution_count": 11
        }
      ]
    },
    {
      "cell_type": "markdown",
      "source": [
        "### Function definitions"
      ],
      "metadata": {
        "id": "zNUDm4gFway4"
      }
    },
    {
      "cell_type": "code",
      "source": [
        "def a_function(x):\n",
        "  return 1/(1+np.exp(-x))\n",
        "def square_loss(y_pred, target):\n",
        "  return np.mean(pow((y_pred - target),2))\n",
        "#definiton of the activation and square loss functions."
      ],
      "metadata": {
        "id": "doDe6kA65-u4"
      },
      "execution_count": null,
      "outputs": []
    },
    {
      "cell_type": "markdown",
      "source": [
        "### Logistic Regression"
      ],
      "metadata": {
        "id": "lY1a7m9WweSw"
      }
    },
    {
      "cell_type": "code",
      "source": [
        "lr = 0.001 #learning rate\n",
        "W=np.zeros(8,dtype=float)\n",
        "losslog=np.zeros(10000,dtype=float)\n",
        "#W = pd.DataFrame(data=w_init,columns=['Weights'])\n",
        "b = 0.0\n",
        "for i in range(10000):\n",
        " z = np.dot(x_train,W) + b\n",
        " y_pred = a_function(z)\n",
        " loss = square_loss(y_pred,ytrain)\n",
        " losslog[i]=loss\n",
        " gradient_W = np.dot((y_pred- ytrain).T, x_train)/x_train.shape[0]\n",
        " gradient_b = np.mean(y_pred-ytrain)\n",
        " W = W - lr * gradient_W\n",
        " b = b - lr* gradient_b\n"
      ],
      "metadata": {
        "id": "cxDv8Ai56Yz0"
      },
      "execution_count": null,
      "outputs": []
    },
    {
      "cell_type": "markdown",
      "source": [
        "### Loss vs epochs for the training data"
      ],
      "metadata": {
        "id": "5cJtsUBlw1yu"
      }
    },
    {
      "cell_type": "code",
      "source": [
        "plt.plot(range(10000),losslog)\n",
        "plt.title(\"Loss vs no of epochs \")\n",
        "plt.xlabel(\"no of epochs\")\n",
        "plt.ylabel(\"Loss\")"
      ],
      "metadata": {
        "colab": {
          "base_uri": "https://localhost:8080/",
          "height": 312
        },
        "id": "FL7unaSK-KYL",
        "outputId": "2f038710-268f-404b-d1d1-e8d771d1ba46"
      },
      "execution_count": null,
      "outputs": [
        {
          "output_type": "execute_result",
          "data": {
            "text/plain": [
              "Text(0, 0.5, 'Loss')"
            ]
          },
          "metadata": {},
          "execution_count": 21
        },
        {
          "output_type": "display_data",
          "data": {
            "text/plain": [
              "<Figure size 432x288 with 1 Axes>"
            ],
            "image/png": "[encoded data removed]"
          },
          "metadata": {
            "needs_background": "light"
          }
        }
      ]
    }
  ]
}