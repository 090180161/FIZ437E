{
  "nbformat": 4,
  "nbformat_minor": 0,
  "metadata": {
    "colab": {
      "provenance": []
    },
    "kernelspec": {
      "name": "python3",
      "display_name": "Python 3"
    },
    "language_info": {
      "name": "python"
    }
  },
  "cells": [
    {
      "cell_type": "code",
      "execution_count": 164,
      "metadata": {
        "id": "w7OC_2i62XTW"
      },
      "outputs": [],
      "source": [
        "import numpy as np\n",
        "import pandas as pd\n",
        "import random as rd\n",
        "import matplotlib.pyplot as plt\n",
        "from scipy.special import j0\n",
        "from sklearn.linear_model import LinearRegression,RidgeCV,Ridge\n",
        "from sklearn.model_selection import train_test_split\n",
        "from sklearn.metrics import mean_squared_error,r2_score\n",
        "from sklearn.preprocessing import PolynomialFeatures"
      ]
    },
    {
      "cell_type": "markdown",
      "source": [
        "Data Generation for 10 sample points"
      ],
      "metadata": {
        "id": "pPszv3Re2YCj"
      }
    },
    {
      "cell_type": "code",
      "source": [
        "x_r = np.linspace(0,8,40)\n",
        "res = np.zeros(len(x_r))\n",
        "for i in range(len(x_r)):\n",
        "  x = x_r[i]\n",
        "  res[i] =j0(x_r[i])+ 0.1 * rd.random() #rd.random() generates a float value between 0 and 1.\n",
        "y = np.zeros(len(x_r))\n",
        "sample_= np.zeros(10)\n",
        "count = 0\n",
        "x_Samp = np.zeros(10)\n",
        "\n",
        "while count < 10:\n",
        "  index = rd.randint(0,len(x_r)-1)\n",
        "  if x_r[index] != x_Samp.any(): #this if statement ensures the random samples we choose are not the same with one another.\n",
        "    x_Samp[count] = x_r[index]\n",
        "    count += 1\n",
        "x_sort = np.sort(x_Samp)\n",
        "for i in range(len(x_Samp)):\n",
        "  sample_[i] = j0(x_sort[i])+ 0.1 * rd.random()\n",
        "\n",
        "\n",
        "print(x_sort)\n",
        "print(sample_)"
      ],
      "metadata": {
        "id": "MJs_tBRm2kRM",
        "colab": {
          "base_uri": "https://localhost:8080/"
        },
        "outputId": "2605c4ca-13db-4937-9ace-e334a2e2dc75"
      },
      "execution_count": 165,
      "outputs": [
        {
          "output_type": "stream",
          "name": "stdout",
          "text": [
            "[0.61538462 1.43589744 3.07692308 4.1025641  4.30769231 5.33333333\n",
            " 5.53846154 5.94871795 7.38461538 7.79487179]\n",
            "[ 0.93152366  0.60529699 -0.27950182 -0.30204007 -0.29795073  0.03295041\n",
            "  0.04482101  0.13734749  0.36299799  0.30292217]\n"
          ]
        }
      ]
    },
    {
      "cell_type": "markdown",
      "source": [
        "Plot of J0 with a gaussian noise"
      ],
      "metadata": {
        "id": "KFjz1onGomoX"
      }
    },
    {
      "cell_type": "code",
      "source": [
        "plt.scatter(x_r,res)"
      ],
      "metadata": {
        "colab": {
          "base_uri": "https://localhost:8080/",
          "height": 283
        },
        "id": "_PROTm2q-5av",
        "outputId": "6e512f5b-bd3a-43f6-f6ea-3985e6ad574a"
      },
      "execution_count": 166,
      "outputs": [
        {
          "output_type": "execute_result",
          "data": {
            "text/plain": [
              "<matplotlib.collections.PathCollection at 0x7f5d0072ff50>"
            ]
          },
          "metadata": {},
          "execution_count": 166
        },
        {
          "output_type": "display_data",
          "data": {
            "text/plain": [
              "<Figure size 432x288 with 1 Axes>"
            ],
            "image/png": "[encoded data removed]"
          },
          "metadata": {
            "needs_background": "light"
          }
        }
      ]
    },
    {
      "cell_type": "code",
      "source": [],
      "metadata": {
        "id": "yGc-IpHovQSQ"
      },
      "execution_count": 166,
      "outputs": []
    },
    {
      "cell_type": "code",
      "source": [
        "X_train , X_test , y_train , y_test = train_test_split(x_sort,sample_, test_size = 0.2)#data is split into train and test groups\n",
        "\n",
        "poly = PolynomialFeatures(degree=8)\n",
        "xTrain = poly.fit_transform(X_train.reshape(-1,1))\n",
        "\n",
        "model = LinearRegression()\n",
        "model.fit(xTrain,y_train)   \n",
        "ypredictions = model.predict(poly.fit_transform(X_test.reshape(-1,1)))\n",
        "rmse10 = np.sqrt(mean_squared_error(y_test,ypredictions))\n",
        "r2 = r2_score(y_test,ypredictions)\n",
        "\n",
        "RigAlphaDet = RidgeCV(alphas=[0.01,1,999])#Creates a model do determine the optimal alpha for the provided dataset, the alphas argument takes a linspace-like argument.\n",
        "model_rigcv = RigAlphaDet.fit(xTrain,y_train)\n",
        "print(r2)\n",
        "print(rmse10)\n",
        "print(model_rigcv.alpha_)"
      ],
      "metadata": {
        "colab": {
          "base_uri": "https://localhost:8080/"
        },
        "id": "3QhzxWBZouDH",
        "outputId": "fff5fc1a-0a76-4815-f791-5d9a4ba072d9"
      },
      "execution_count": 167,
      "outputs": [
        {
          "output_type": "stream",
          "name": "stdout",
          "text": [
            "-32516.427440564185\n",
            "0.36870653877720094\n",
            "1.0\n"
          ]
        }
      ]
    },
    {
      "cell_type": "code",
      "source": [],
      "metadata": {
        "id": "rokbKEg4QZEE"
      },
      "execution_count": 167,
      "outputs": []
    },
    {
      "cell_type": "markdown",
      "source": [
        "Linear Regression for 20 sample points\n",
        "\n",
        "```\n",
        "\n",
        "\n"
      ],
      "metadata": {
        "id": "JLaBmF6f-0wS"
      }
    },
    {
      "cell_type": "code",
      "source": [
        "x_r = np.linspace(0,8,40)\n",
        "sample_= np.zeros(20)\n",
        "count = 0\n",
        "x_Samp = np.zeros(20)\n",
        "\n",
        "while count < 20:\n",
        "  index = rd.randint(0,len(x_r)-1)\n",
        "  if x_r[index] != x_Samp.any(): #this if statement ensures the random samples we choose are not the same with one another.\n",
        "    x_Samp[count] = x_r[index]\n",
        "    count += 1\n",
        "x_sort = np.sort(x_Samp)\n",
        "for i in range(len(x_Samp)):\n",
        "  sample_[i] = j0(x_sort[i])+ 0.1 * rd.random()\n",
        "X_train , X_test , y_train , y_test = train_test_split(x_sort,sample_, test_size = 0.2)#data is split into train and test groups\n",
        "\n",
        "poly = PolynomialFeatures(degree=8)\n",
        "xTrain = poly.fit_transform(X_train.reshape(-1,1))\n",
        "\n",
        "model = LinearRegression()\n",
        "model.fit(xTrain,y_train)   \n",
        "ypredictions = model.predict(poly.fit_transform(X_test.reshape(-1,1)))\n",
        "rmse20 = np.sqrt(mean_squared_error(y_test,ypredictions))\n",
        "r2 = r2_score(y_test,ypredictions)\n",
        "Rmod20 = Ridge(alpha=1.0)\n",
        "xTs = X_train.reshape(-1,1)\n",
        "y_ts = y_train.reshape(-1,1)\n",
        "Rmod20.fit(xTs,y_ts)\n",
        "rpred = Rmod20.predict(X_test.reshape(-1,1))\n",
        "rmse20ridge = np.sqrt(mean_squared_error(y_test.reshape(-1,1),rpred))\n",
        "print(r2)\n",
        "print(rmse20)\n",
        "print(rmse20ridge)"
      ],
      "metadata": {
        "colab": {
          "base_uri": "https://localhost:8080/"
        },
        "id": "7i946Ni5-hSk",
        "outputId": "fbd398f5-5380-4970-9baf-71470b71686d"
      },
      "execution_count": 168,
      "outputs": [
        {
          "output_type": "stream",
          "name": "stdout",
          "text": [
            "0.8908259480535581\n",
            "0.029709581571620892\n",
            "0.41602523325216884\n"
          ]
        }
      ]
    },
    {
      "cell_type": "markdown",
      "source": [
        "Linear Regression for 100 samples"
      ],
      "metadata": {
        "id": "5uQ2ft77_bk8"
      }
    },
    {
      "cell_type": "code",
      "source": [
        "x_r = np.linspace(0,8,100)\n",
        "sample_= np.zeros(100)\n",
        "count = 0\n",
        "x_Samp = np.zeros(100)\n",
        "\n",
        "while count < 100:\n",
        "  index = rd.randint(0,len(x_r)-1)\n",
        "  if x_r[index] != x_Samp.any(): #this if statement ensures the random samples we choose are not the same with one another.\n",
        "    x_Samp[count] = x_r[index]\n",
        "    count += 1\n",
        "x_sort = np.sort(x_Samp)\n",
        "for i in range(len(x_Samp)):\n",
        "  sample_[i] = j0(x_sort[i])+ 0.1 * rd.random()\n",
        "X_train , X_test , y_train , y_test = train_test_split(x_sort,sample_, test_size = 0.2)#data is split into train and test groups\n",
        "\n",
        "poly = PolynomialFeatures(degree=8)\n",
        "xTrain = poly.fit_transform(X_train.reshape(-1,1))\n",
        "\n",
        "model = LinearRegression()\n",
        "model.fit(xTrain,y_train)   \n",
        "ypredictions = model.predict(poly.fit_transform(X_test.reshape(-1,1)))\n",
        "\n",
        "rmse100 = np.sqrt(mean_squared_error(y_test,ypredictions))\n",
        "r2 = r2_score(y_test,ypredictions)\n",
        "Rmod100 = Ridge(alpha=1.0)\n",
        "xTs = X_train.reshape(-1,1)\n",
        "y_ts = y_train.reshape(-1,1)\n",
        "Rmod100.fit(xTs,y_ts)\n",
        "rpred = Rmod100.predict(X_test.reshape(-1,1))\n",
        "rmse100ridge = np.sqrt(mean_squared_error(y_test.reshape(-1,1),rpred))\n",
        "print(r2)\n",
        "print(rmse100)\n",
        "print(rmse100ridge)"
      ],
      "metadata": {
        "colab": {
          "base_uri": "https://localhost:8080/"
        },
        "id": "1hHO3zAf_gWq",
        "outputId": "4f03ca9b-aceb-46aa-ebb0-2aaec36014d0"
      },
      "execution_count": 169,
      "outputs": [
        {
          "output_type": "stream",
          "name": "stdout",
          "text": [
            "0.9929255898630371\n",
            "0.03417802161684568\n",
            "0.36720658539911044\n"
          ]
        }
      ]
    },
    {
      "cell_type": "code",
      "source": [],
      "metadata": {
        "id": "FxrueZvWAysR"
      },
      "execution_count": 169,
      "outputs": []
    },
    {
      "cell_type": "markdown",
      "source": [
        "Linear regression for 1000 sample data "
      ],
      "metadata": {
        "id": "h9urAxldAxEh"
      }
    },
    {
      "cell_type": "code",
      "source": [
        "x_r = np.linspace(0,8,1000)\n",
        "sample_= np.zeros(1000)\n",
        "count = 0\n",
        "x_Samp = np.zeros(1000)\n",
        "\n",
        "while count < 1000:\n",
        "  index = rd.randint(0,len(x_r)-1)\n",
        "  if x_r[index] != x_Samp.any(): #this if statement ensures the random samples we choose are not the same with one another.\n",
        "    x_Samp[count] = x_r[index]\n",
        "    count += 1\n",
        "x_sort = np.sort(x_Samp)\n",
        "for i in range(len(x_Samp)):\n",
        "  sample_[i] = j0(x_sort[i])+ 0.1 * rd.random()\n",
        "X_train , X_test , y_train , y_test = train_test_split(x_sort,sample_, test_size = 0.2)#data is split into train and test groups\n",
        "\n",
        "poly = PolynomialFeatures(degree=8)\n",
        "xTrain = poly.fit_transform(X_train.reshape(-1,1))\n",
        "\n",
        "model = LinearRegression()\n",
        "model.fit(xTrain,y_train)   \n",
        "ypredictions = model.predict(poly.fit_transform(X_test.reshape(-1,1)))\n",
        "\n",
        "rmse1000 = np.sqrt(mean_squared_error(y_test,ypredictions))\n",
        "r2 = r2_score(y_test,ypredictions)\n",
        "Rmod1000 = Ridge(alpha=1.0)\n",
        "xTs = X_train.reshape(-1,1)\n",
        "y_ts = y_train.reshape(-1,1)\n",
        "Rmod1000.fit(xTs,y_ts)\n",
        "rpred = Rmod20.predict(X_test.reshape(-1,1))\n",
        "rmse1000ridge = np.sqrt(mean_squared_error(y_test.reshape(-1,1),rpred))\n",
        "print(r2)\n",
        "print(rmse1000)\n",
        "print(rmse1000ridge)"
      ],
      "metadata": {
        "colab": {
          "base_uri": "https://localhost:8080/"
        },
        "id": "SRt01A9r_bZP",
        "outputId": "066fcb1d-85de-4f3e-de00-5ea7fca631c1"
      },
      "execution_count": 170,
      "outputs": [
        {
          "output_type": "stream",
          "name": "stdout",
          "text": [
            "0.9951550309436168\n",
            "0.028702229734713605\n",
            "0.3835986453400402\n"
          ]
        }
      ]
    },
    {
      "cell_type": "code",
      "source": [
        "x_r = np.linspace(0,8,10000)\n",
        "sample_= np.zeros(10000)\n",
        "count = 0\n",
        "x_Samp = np.zeros(10000)\n",
        "\n",
        "while count < 10000:\n",
        "  index = rd.randint(0,len(x_r)-1)\n",
        "  if x_r[index] != x_Samp.any(): #this if statement ensures the random samples we choose are not the same with one another.\n",
        "    x_Samp[count] = x_r[index]\n",
        "    count += 1\n",
        "x_sort = np.sort(x_Samp)\n",
        "for i in range(len(x_Samp)):\n",
        "  sample_[i] = j0(x_sort[i])+ 0.1 * rd.random()\n",
        "X_train , X_test , y_train , y_test = train_test_split(x_sort,sample_, test_size = 0.2)#data is split into train and test groups\n",
        "\n",
        "poly = PolynomialFeatures(degree=8)\n",
        "xTrain = poly.fit_transform(X_train.reshape(-1,1))\n",
        "\n",
        "model = LinearRegression()\n",
        "model.fit(xTrain,y_train)   \n",
        "ypredictions = model.predict(poly.fit_transform(X_test.reshape(-1,1)))\n",
        "\n",
        "rmse10000 = np.sqrt(mean_squared_error(y_test,ypredictions))\n",
        "r2 = r2_score(y_test,ypredictions)\n",
        "Rmod10000 = Ridge(alpha=1.0)\n",
        "xTs = X_train.reshape(-1,1)\n",
        "y_ts = y_train.reshape(-1,1)\n",
        "Rmod10000.fit(xTs,y_ts)\n",
        "rpred = Rmod20.predict(X_test.reshape(-1,1))\n",
        "rmse10000ridge = np.sqrt(mean_squared_error(y_test.reshape(-1,1),rpred))\n",
        "print(r2)\n",
        "print(rmse10000)\n",
        "print(rmse10000ridge)"
      ],
      "metadata": {
        "colab": {
          "base_uri": "https://localhost:8080/"
        },
        "id": "yaIdIjGqI2d1",
        "outputId": "ccd69542-165d-41dc-fd8f-a814a2dfabc6"
      },
      "execution_count": 171,
      "outputs": [
        {
          "output_type": "stream",
          "name": "stdout",
          "text": [
            "0.9950139644636055\n",
            "0.028870049925765976\n",
            "0.38276508822218525\n"
          ]
        }
      ]
    },
    {
      "cell_type": "markdown",
      "source": [
        "Sample of point vs L2 loss (RMSE)"
      ],
      "metadata": {
        "id": "I_cY82QKJOqn"
      }
    },
    {
      "cell_type": "code",
      "source": [
        "npoint = [10,20,100,1000,10000]\n",
        "rmsev = [rmse10,rmse20,rmse100,rmse1000,rmse10000]\n",
        "plt.plot(npoint,rmsev)\n",
        "plt.title('Number of Samples vs L2 Loss')\n"
      ],
      "metadata": {
        "colab": {
          "base_uri": "https://localhost:8080/",
          "height": 299
        },
        "id": "97m3kG8KJOEz",
        "outputId": "d2121735-dcfc-49c3-ac52-ee7099fe0a82"
      },
      "execution_count": 176,
      "outputs": [
        {
          "output_type": "execute_result",
          "data": {
            "text/plain": [
              "Text(0.5, 1.0, 'Number of Samples vs L2 Loss')"
            ]
          },
          "metadata": {},
          "execution_count": 176
        },
        {
          "output_type": "display_data",
          "data": {
            "text/plain": [
              "<Figure size 432x288 with 1 Axes>"
            ],
            "image/png": "[encoded data removed]"
          },
          "metadata": {
            "needs_background": "light"
          }
        }
      ]
    },
    {
      "cell_type": "markdown",
      "source": [],
      "metadata": {
        "id": "i70i_SatOfcY"
      }
    },
    {
      "cell_type": "code",
      "source": [
        "rmseridge = [rmse10,rmse20,rmse100,rmse1000,rmse10000]\n",
        "npoint = [10,20,100,1000,10000]\n",
        "plt.plot(npoint,rmseridge)\n",
        "plt.title('Number of Samples vs L2 Loss in ridge regression')"
      ],
      "metadata": {
        "id": "VBWaSjUeOfDK",
        "colab": {
          "base_uri": "https://localhost:8080/",
          "height": 299
        },
        "outputId": "822de76b-cfff-47a1-dccf-97b984037e5c"
      },
      "execution_count": 174,
      "outputs": [
        {
          "output_type": "execute_result",
          "data": {
            "text/plain": [
              "Text(0.5, 1.0, 'Number of Samples vs L2 Loss in ridge regression')"
            ]
          },
          "metadata": {},
          "execution_count": 174
        },
        {
          "output_type": "display_data",
          "data": {
            "text/plain": [
              "<Figure size 432x288 with 1 Axes>"
            ],
            "image/png": "[encoded data removed]"
          },
          "metadata": {
            "needs_background": "light"
          }
        }
      ]
    }
  ]
}